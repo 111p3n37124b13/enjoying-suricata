{
 "cells": [
  {
   "cell_type": "code",
   "execution_count": 1,
   "metadata": {},
   "outputs": [
    {
     "name": "stdout",
     "output_type": "stream",
     "text": [
      "Suricata 6.0.15\n",
      "USAGE: suricata [OPTIONS] [BPF FILTER]\n",
      "\n",
      "\t-c <path>                            : path to configuration file\n",
      "\t-T                                   : test configuration file (use with -c)\n",
      "\t-i <dev or ip>                       : run in pcap live mode\n",
      "\t-F <bpf filter file>                 : bpf filter file\n",
      "\t-r <path>                            : run in pcap file/offline mode\n",
      "\t-q <qid[:qid]>                       : run in inline nfqueue mode (use colon to specify a range of queues)\n",
      "\t-s <path>                            : path to signature file loaded in addition to suricata.yaml settings (optional)\n",
      "\t-S <path>                            : path to signature file loaded exclusively (optional)\n",
      "\t-l <dir>                             : default log directory\n",
      "\t-D                                   : run as daemon\n",
      "\t-k [all|none]                        : force checksum check (all) or disabled it (none)\n",
      "\t-V                                   : display Suricata version\n",
      "\t-v                                   : be more verbose (use multiple times to increase verbosity)\n",
      "\t--list-app-layer-protos              : list supported app layer protocols\n",
      "\t--list-keywords[=all|csv|<kword>]    : list keywords implemented by the engine\n",
      "\t--list-runmodes                      : list supported runmodes\n",
      "\t--runmode <runmode_id>               : specific runmode modification the engine should run.  The argument\n",
      "\t                                       supplied should be the id for the runmode obtained by running\n",
      "\t                                       --list-runmodes\n",
      "\t--engine-analysis                    : print reports on analysis of different sections in the engine and exit.\n",
      "\t                                       Please have a look at the conf parameter engine-analysis on what reports\n",
      "\t                                       can be printed\n",
      "\t--pidfile <file>                     : write pid to this file\n",
      "\t--init-errors-fatal                  : enable fatal failure on signature init error\n",
      "\t--disable-detection                  : disable detection engine\n",
      "\t--dump-config                        : show the running configuration\n",
      "\t--dump-features                      : display provided features\n",
      "\t--build-info                         : display build information\n",
      "\t--pcap[=<dev>]                       : run in pcap mode, no value select interfaces from suricata.yaml\n",
      "\t--pcap-file-continuous               : when running in pcap mode with a directory, continue checking directory for pcaps until interrupted\n",
      "\t--pcap-file-delete                   : when running in replay mode (-r with directory or file), will delete pcap files that have been processed when done\n",
      "\t--pcap-file-recursive                : will descend into subdirectories when running in replay mode (-r)\n",
      "\t--pcap-buffer-size                   : size of the pcap buffer value from 0 - 2147483647\n",
      "\t--af-packet[=<dev>]                  : run in af-packet mode, no value select interfaces from suricata.yaml\n",
      "\t--simulate-ips                       : force engine into IPS mode. Useful for QA\n",
      "\t--user <user>                        : run suricata as this user after init\n",
      "\t--group <group>                      : run suricata as this group after init\n",
      "\t--erf-in <path>                      : process an ERF file\n",
      "\t--unix-socket[=<file>]               : use unix socket to control suricata work\n",
      "\t--reject-dev <dev>                   : send reject packets from this interface\n",
      "\t--set name=value                     : set a configuration value\n",
      "\n",
      "\n",
      "To run the engine with default configuration on interface eth0 with signature file \"signatures.rules\", run the command as:\n",
      "\n",
      "suricata -c suricata.yaml -s signatures.rules -i eth0 \n",
      "\n"
     ]
    }
   ],
   "source": [
    "!suricata -v"
   ]
  },
  {
   "cell_type": "code",
   "execution_count": 2,
   "metadata": {},
   "outputs": [
    {
     "name": "stdout",
     "output_type": "stream",
     "text": [
      "\u001b[32m22/11/2023 -- 10:48:42\u001b[0m - <\u001b[33mInfo\u001b[0m> -- Using data-directory /var/lib/suricata.\u001b[0m\n",
      "\u001b[32m22/11/2023 -- 10:48:42\u001b[0m - <\u001b[33mInfo\u001b[0m> -- Using Suricata configuration /etc/suricata/suricata.yaml\u001b[0m\n",
      "\u001b[32m22/11/2023 -- 10:48:42\u001b[0m - <\u001b[33mInfo\u001b[0m> -- Using /usr/share/suricata/rules for Suricata provided rules.\u001b[0m\n",
      "\u001b[32m22/11/2023 -- 10:48:42\u001b[0m - <\u001b[33mInfo\u001b[0m> -- Found Suricata version 6.0.15 at /usr/sbin/suricata.\u001b[0m\n",
      "\u001b[32m22/11/2023 -- 10:48:42\u001b[0m - <\u001b[33mInfo\u001b[0m> -- Creating directory /var/lib/suricata/update/sources\u001b[0m\n",
      "\u001b[32m22/11/2023 -- 10:48:42\u001b[0m - <\u001b[33mInfo\u001b[0m> -- Enabling default source et/open\u001b[0m\n",
      "\u001b[32m22/11/2023 -- 10:48:42\u001b[0m - <\u001b[33mInfo\u001b[0m> -- Source tgreen/hunting enabled\u001b[0m\n"
     ]
    }
   ],
   "source": [
    "!suricata-update enable-source tgreen/hunting"
   ]
  },
  {
   "cell_type": "code",
   "execution_count": 3,
   "metadata": {},
   "outputs": [
    {
     "name": "stdout",
     "output_type": "stream",
     "text": [
      "\u001b[01;34m/var/lib/suricata\u001b[0m\n",
      "└── \u001b[01;34mupdate\u001b[0m\n",
      "    ├── \u001b[01;34mcache\u001b[0m\n",
      "    │   └── index.yaml\n",
      "    └── \u001b[01;34msources\u001b[0m\n",
      "        ├── et-open.yaml\n",
      "        └── tgreen-hunting.yaml\n",
      "\n",
      "3 directories, 3 files\n"
     ]
    }
   ],
   "source": [
    "!tree /var/lib/suricata"
   ]
  },
  {
   "cell_type": "code",
   "execution_count": 4,
   "metadata": {},
   "outputs": [
    {
     "name": "stdout",
     "output_type": "stream",
     "text": [
      "\u001b[01;34m/usr/share/suricata\u001b[0m\n",
      "└── \u001b[01;34mrules\u001b[0m\n",
      "    ├── app-layer-events.rules\n",
      "    ├── decoder-events.rules\n",
      "    ├── dhcp-events.rules\n",
      "    ├── dnp3-events.rules\n",
      "    ├── dns-events.rules\n",
      "    ├── files.rules\n",
      "    ├── http2-events.rules\n",
      "    ├── http-events.rules\n",
      "    ├── ipsec-events.rules\n",
      "    ├── kerberos-events.rules\n",
      "    ├── modbus-events.rules\n",
      "    ├── mqtt-events.rules\n",
      "    ├── nfs-events.rules\n",
      "    ├── ntp-events.rules\n",
      "    ├── rfb-events.rules\n",
      "    ├── smb-events.rules\n",
      "    ├── smtp-events.rules\n",
      "    ├── ssh-events.rules\n",
      "    ├── stream-events.rules\n",
      "    └── tls-events.rules\n",
      "\n",
      "1 directory, 20 files\n"
     ]
    }
   ],
   "source": [
    "!tree /usr/share/suricata"
   ]
  },
  {
   "cell_type": "code",
   "execution_count": 2,
   "metadata": {},
   "outputs": [],
   "source": [
    "LOGDIR = \"/tmp/logs\""
   ]
  },
  {
   "cell_type": "code",
   "execution_count": 3,
   "metadata": {},
   "outputs": [],
   "source": [
    "!rm -rf $LOGDIR && mkdir $LOGDIR"
   ]
  },
  {
   "cell_type": "code",
   "execution_count": 4,
   "metadata": {},
   "outputs": [],
   "source": [
    "URL = \"https://www.malware-traffic-analysis.net/2022/01/03/2022-01-01-thru-03-server-activity-with-log4j-attempts.pcap.zip\""
   ]
  },
  {
   "cell_type": "code",
   "execution_count": 5,
   "metadata": {},
   "outputs": [],
   "source": [
    "import urllib.request"
   ]
  },
  {
   "cell_type": "code",
   "execution_count": 6,
   "metadata": {},
   "outputs": [],
   "source": [
    "OUTPUT = \"/tmp/malware-pcap.zip\""
   ]
  },
  {
   "cell_type": "code",
   "execution_count": 7,
   "metadata": {},
   "outputs": [
    {
     "data": {
      "text/plain": [
       "('/tmp/malware-pcap.zip', <http.client.HTTPMessage at 0x7f60943379d0>)"
      ]
     },
     "execution_count": 7,
     "metadata": {},
     "output_type": "execute_result"
    }
   ],
   "source": [
    "urllib.request.urlretrieve(URL, OUTPUT)"
   ]
  },
  {
   "cell_type": "code",
   "execution_count": 8,
   "metadata": {},
   "outputs": [
    {
     "name": "stdout",
     "output_type": "stream",
     "text": [
      "-rw-r--r--. 1 tanmwhitw tanmwhitw 4.2M Nov 22 20:23 2022-01-01-thru-03-server-activity-with-log4j-attempts.pcap\n",
      "-rw-r--r--. 1 tanmwhitw tanmwhitw 1.3M Nov 22 22:27 malware-pcap.zip\n"
     ]
    }
   ],
   "source": [
    "!ls -lh /tmp/ | grep pcap"
   ]
  },
  {
   "cell_type": "code",
   "execution_count": 9,
   "metadata": {},
   "outputs": [],
   "source": [
    "from zipfile import ZipFile"
   ]
  },
  {
   "cell_type": "code",
   "execution_count": 10,
   "metadata": {},
   "outputs": [],
   "source": [
    "with ZipFile(OUTPUT, \"r\") as zip:\n",
    "    zip.extractall(path=\"/tmp\", \n",
    "                   pwd=\"infected\".encode(\"utf-8\"))"
   ]
  },
  {
   "cell_type": "code",
   "execution_count": 11,
   "metadata": {},
   "outputs": [],
   "source": [
    "import glob"
   ]
  },
  {
   "cell_type": "code",
   "execution_count": 12,
   "metadata": {},
   "outputs": [
    {
     "data": {
      "text/plain": [
       "['/tmp/2022-01-01-thru-03-server-activity-with-log4j-attempts.pcap']"
      ]
     },
     "execution_count": 12,
     "metadata": {},
     "output_type": "execute_result"
    }
   ],
   "source": [
    "FILES = glob.glob(\"/tmp/*.pcap\")\n",
    "\n",
    "FILES"
   ]
  },
  {
   "cell_type": "code",
   "execution_count": 13,
   "metadata": {},
   "outputs": [],
   "source": [
    "PCAP = FILES[0]"
   ]
  },
  {
   "cell_type": "code",
   "execution_count": 14,
   "metadata": {},
   "outputs": [
    {
     "name": "stdout",
     "output_type": "stream",
     "text": [
      "\u001b[32m22/11/2023 -- 22:27:05\u001b[0m - <\u001b[1;33mNotice\u001b[0m> - \u001b[33mThis is Suricata version 6.0.15 RELEASE running in USER mode\u001b[0m\n",
      "\u001b[32m22/11/2023 -- 22:27:05\u001b[0m - <\u001b[33mInfo\u001b[0m> - CPUs/cores online: 4\u001b[0m\n",
      "\u001b[32m22/11/2023 -- 22:27:05\u001b[0m - <\u001b[33mInfo\u001b[0m> - Setting engine mode to IDS mode by default\u001b[0m\n",
      "\u001b[32m22/11/2023 -- 22:27:05\u001b[0m - <\u001b[33mInfo\u001b[0m> - master exception-policy set to: auto\u001b[0m\n"
     ]
    },
    {
     "name": "stdout",
     "output_type": "stream",
     "text": [
      "\u001b[32m22/11/2023 -- 22:27:05\u001b[0m - <\u001b[33mInfo\u001b[0m> - fast output device (regular) initialized: fast.log\u001b[0m\n",
      "\u001b[32m22/11/2023 -- 22:27:05\u001b[0m - <\u001b[33mInfo\u001b[0m> - eve-log output device (regular) initialized: eve.json\u001b[0m\n",
      "\u001b[32m22/11/2023 -- 22:27:05\u001b[0m - <\u001b[33mInfo\u001b[0m> - stats output device (regular) initialized: stats.log\u001b[0m\n",
      "\u001b[32m22/11/2023 -- 22:27:05\u001b[0m - <\u001b[33mInfo\u001b[0m> - 1 rule files processed. 49 rules successfully loaded, 0 rules failed\u001b[0m\n",
      "\u001b[32m22/11/2023 -- 22:27:05\u001b[0m - <\u001b[33mInfo\u001b[0m> - Threshold config parsed: 0 rule(s) found\u001b[0m\n",
      "\u001b[32m22/11/2023 -- 22:27:05\u001b[0m - <\u001b[33mInfo\u001b[0m> - 49 signatures processed. 0 are IP-only rules, 0 are inspecting packet payload, 49 inspect application layer, 0 are decoder event only\u001b[0m\n",
      "\u001b[32m22/11/2023 -- 22:27:05\u001b[0m - <\u001b[1;33mNotice\u001b[0m> - \u001b[33mall 5 packet processing threads, 4 management threads initialized, engine started.\u001b[0m\n",
      "\u001b[32m22/11/2023 -- 22:27:05\u001b[0m - <\u001b[33mInfo\u001b[0m> - Starting file run for /tmp/2022-01-01-thru-03-server-activity-with-log4j-attempts.pcap\u001b[0m\n",
      "\u001b[32m22/11/2023 -- 22:27:05\u001b[0m - <\u001b[33mInfo\u001b[0m> - No packets with invalid checksum, assuming checksum offloading is NOT used\u001b[0m\n",
      "\u001b[32m22/11/2023 -- 22:27:06\u001b[0m - <\u001b[33mInfo\u001b[0m> - pcap file /tmp/2022-01-01-thru-03-server-activity-with-log4j-attempts.pcap end of file reached (pcap err code 0)\u001b[0m\n",
      "\u001b[32m22/11/2023 -- 22:27:06\u001b[0m - <\u001b[1;33mNotice\u001b[0m> - \u001b[33mSignal Received.  Stopping engine.\u001b[0m\n",
      "\u001b[32m22/11/2023 -- 22:27:06\u001b[0m - <\u001b[33mInfo\u001b[0m> - time elapsed 0.679s\u001b[0m\n",
      "\u001b[32m22/11/2023 -- 22:27:06\u001b[0m - <\u001b[1;33mNotice\u001b[0m> - \u001b[33mPcap-file module read 1 files, 39208 packets, 3728453 bytes\u001b[0m\n",
      "\u001b[32m22/11/2023 -- 22:27:06\u001b[0m - <\u001b[33mInfo\u001b[0m> - Alerts: 9\u001b[0m\n",
      "\u001b[32m22/11/2023 -- 22:27:06\u001b[0m - <\u001b[33mInfo\u001b[0m> - cleaning up signature grouping structure... complete\u001b[0m\n"
     ]
    }
   ],
   "source": [
    "!suricata -S /usr/share/suricata/rules/http-events.rules -l $LOGDIR -r $PCAP -v"
   ]
  },
  {
   "cell_type": "code",
   "execution_count": 15,
   "metadata": {},
   "outputs": [],
   "source": [
    "import pandas\n",
    "import json"
   ]
  },
  {
   "cell_type": "code",
   "execution_count": 16,
   "metadata": {},
   "outputs": [],
   "source": [
    "pandas.options.display.html.use_mathjax = False"
   ]
  },
  {
   "cell_type": "code",
   "execution_count": 17,
   "metadata": {},
   "outputs": [
    {
     "data": {
      "text/html": [
       "<div>\n",
       "<style scoped>\n",
       "    .dataframe tbody tr th:only-of-type {\n",
       "        vertical-align: middle;\n",
       "    }\n",
       "\n",
       "    .dataframe tbody tr th {\n",
       "        vertical-align: top;\n",
       "    }\n",
       "\n",
       "    .dataframe thead th {\n",
       "        text-align: right;\n",
       "    }\n",
       "</style>\n",
       "<table border=\"1\" class=\"dataframe tex2jax_ignore\">\n",
       "  <thead>\n",
       "    <tr style=\"text-align: right;\">\n",
       "      <th></th>\n",
       "      <th>timestamp</th>\n",
       "      <th>proto</th>\n",
       "      <th>event_type</th>\n",
       "      <th>src_ip</th>\n",
       "      <th>src_port</th>\n",
       "      <th>dest_ip</th>\n",
       "      <th>dest_port</th>\n",
       "    </tr>\n",
       "    <tr>\n",
       "      <th>pcap_cnt</th>\n",
       "      <th></th>\n",
       "      <th></th>\n",
       "      <th></th>\n",
       "      <th></th>\n",
       "      <th></th>\n",
       "      <th></th>\n",
       "      <th></th>\n",
       "    </tr>\n",
       "  </thead>\n",
       "  <tbody>\n",
       "    <tr>\n",
       "      <th>0</th>\n",
       "      <td>2022-01-01 03:00:13.076985+03:00</td>\n",
       "      <td>TCP</td>\n",
       "      <td>flow</td>\n",
       "      <td>183.136.225.42</td>\n",
       "      <td>9927</td>\n",
       "      <td>198.71.247.91</td>\n",
       "      <td>4343</td>\n",
       "    </tr>\n",
       "    <tr>\n",
       "      <th>0</th>\n",
       "      <td>2022-01-01 03:00:13.076985+03:00</td>\n",
       "      <td>TCP</td>\n",
       "      <td>flow</td>\n",
       "      <td>178.128.40.66</td>\n",
       "      <td>61953</td>\n",
       "      <td>198.71.247.91</td>\n",
       "      <td>8554</td>\n",
       "    </tr>\n",
       "    <tr>\n",
       "      <th>0</th>\n",
       "      <td>2022-01-01 03:00:13.076985+03:00</td>\n",
       "      <td>TCP</td>\n",
       "      <td>flow</td>\n",
       "      <td>45.146.166.124</td>\n",
       "      <td>58503</td>\n",
       "      <td>198.71.247.91</td>\n",
       "      <td>18285</td>\n",
       "    </tr>\n",
       "    <tr>\n",
       "      <th>0</th>\n",
       "      <td>2022-01-01 03:00:13.076985+03:00</td>\n",
       "      <td>TCP</td>\n",
       "      <td>flow</td>\n",
       "      <td>178.128.216.205</td>\n",
       "      <td>53770</td>\n",
       "      <td>198.71.247.91</td>\n",
       "      <td>22</td>\n",
       "    </tr>\n",
       "    <tr>\n",
       "      <th>0</th>\n",
       "      <td>2022-01-01 03:00:13.076985+03:00</td>\n",
       "      <td>TCP</td>\n",
       "      <td>flow</td>\n",
       "      <td>79.124.62.90</td>\n",
       "      <td>57003</td>\n",
       "      <td>198.71.247.91</td>\n",
       "      <td>33591</td>\n",
       "    </tr>\n",
       "    <tr>\n",
       "      <th>...</th>\n",
       "      <td>...</td>\n",
       "      <td>...</td>\n",
       "      <td>...</td>\n",
       "      <td>...</td>\n",
       "      <td>...</td>\n",
       "      <td>...</td>\n",
       "      <td>...</td>\n",
       "    </tr>\n",
       "    <tr>\n",
       "      <th>39188</th>\n",
       "      <td>2022-01-03 22:10:13.587035+03:00</td>\n",
       "      <td>TCP</td>\n",
       "      <td>anomaly</td>\n",
       "      <td>198.71.247.91</td>\n",
       "      <td>80</td>\n",
       "      <td>157.245.70.127</td>\n",
       "      <td>59520</td>\n",
       "    </tr>\n",
       "    <tr>\n",
       "      <th>39191</th>\n",
       "      <td>2022-01-03 22:10:13.737337+03:00</td>\n",
       "      <td>TCP</td>\n",
       "      <td>http</td>\n",
       "      <td>157.245.70.127</td>\n",
       "      <td>59520</td>\n",
       "      <td>198.71.247.91</td>\n",
       "      <td>80</td>\n",
       "    </tr>\n",
       "    <tr>\n",
       "      <th>39191</th>\n",
       "      <td>2022-01-03 22:10:13.737337+03:00</td>\n",
       "      <td>TCP</td>\n",
       "      <td>alert</td>\n",
       "      <td>157.245.70.127</td>\n",
       "      <td>59520</td>\n",
       "      <td>198.71.247.91</td>\n",
       "      <td>80</td>\n",
       "    </tr>\n",
       "    <tr>\n",
       "      <th>39193</th>\n",
       "      <td>2022-01-03 22:10:13.737468+03:00</td>\n",
       "      <td>TCP</td>\n",
       "      <td>fileinfo</td>\n",
       "      <td>198.71.247.91</td>\n",
       "      <td>80</td>\n",
       "      <td>157.245.70.127</td>\n",
       "      <td>59520</td>\n",
       "    </tr>\n",
       "    <tr>\n",
       "      <th>0</th>\n",
       "      <td>2023-11-22 22:27:06.721548+03:00</td>\n",
       "      <td>NaN</td>\n",
       "      <td>stats</td>\n",
       "      <td>NaN</td>\n",
       "      <td>0</td>\n",
       "      <td>NaN</td>\n",
       "      <td>0</td>\n",
       "    </tr>\n",
       "  </tbody>\n",
       "</table>\n",
       "<p>25756 rows × 7 columns</p>\n",
       "</div>"
      ],
      "text/plain": [
       "                                timestamp proto event_type           src_ip  \\\n",
       "pcap_cnt                                                                      \n",
       "0        2022-01-01 03:00:13.076985+03:00   TCP       flow   183.136.225.42   \n",
       "0        2022-01-01 03:00:13.076985+03:00   TCP       flow    178.128.40.66   \n",
       "0        2022-01-01 03:00:13.076985+03:00   TCP       flow   45.146.166.124   \n",
       "0        2022-01-01 03:00:13.076985+03:00   TCP       flow  178.128.216.205   \n",
       "0        2022-01-01 03:00:13.076985+03:00   TCP       flow     79.124.62.90   \n",
       "...                                   ...   ...        ...              ...   \n",
       "39188    2022-01-03 22:10:13.587035+03:00   TCP    anomaly    198.71.247.91   \n",
       "39191    2022-01-03 22:10:13.737337+03:00   TCP       http   157.245.70.127   \n",
       "39191    2022-01-03 22:10:13.737337+03:00   TCP      alert   157.245.70.127   \n",
       "39193    2022-01-03 22:10:13.737468+03:00   TCP   fileinfo    198.71.247.91   \n",
       "0        2023-11-22 22:27:06.721548+03:00   NaN      stats              NaN   \n",
       "\n",
       "          src_port         dest_ip  dest_port  \n",
       "pcap_cnt                                       \n",
       "0             9927   198.71.247.91       4343  \n",
       "0            61953   198.71.247.91       8554  \n",
       "0            58503   198.71.247.91      18285  \n",
       "0            53770   198.71.247.91         22  \n",
       "0            57003   198.71.247.91      33591  \n",
       "...            ...             ...        ...  \n",
       "39188           80  157.245.70.127      59520  \n",
       "39191        59520   198.71.247.91         80  \n",
       "39191        59520   198.71.247.91         80  \n",
       "39193           80  157.245.70.127      59520  \n",
       "0                0             NaN          0  \n",
       "\n",
       "[25756 rows x 7 columns]"
      ]
     },
     "execution_count": 17,
     "metadata": {},
     "output_type": "execute_result"
    }
   ],
   "source": [
    "with open(\"/tmp/logs/eve.json\", \"r\") as handle:\n",
    "    DATAFRAME = pandas.json_normalize([\n",
    "        json.loads(line) for line in handle\n",
    "    ])\n",
    "for col in ['pcap_cnt', 'src_port', 'dest_port']:\n",
    "    DATAFRAME[col] = (\n",
    "        DATAFRAME[col]\n",
    "        .fillna(0)\n",
    "        .astype(int)\n",
    "    )\n",
    "DATAFRAME['timestamp'] = pandas.to_datetime(DATAFRAME['timestamp'])\n",
    "DATAFRAME[['pcap_cnt', \n",
    "           'timestamp', \n",
    "           'proto', \n",
    "           'event_type', \n",
    "           'src_ip', \n",
    "           'src_port', \n",
    "           'dest_ip', \n",
    "           'dest_port']].sort_values('timestamp').set_index('pcap_cnt')"
   ]
  },
  {
   "cell_type": "code",
   "execution_count": 18,
   "metadata": {},
   "outputs": [
    {
     "data": {
      "text/plain": [
       "pcap_cnt\n",
       "0        False\n",
       "0        False\n",
       "0        False\n",
       "0        False\n",
       "0        False\n",
       "         ...  \n",
       "39188    False\n",
       "39191    False\n",
       "39191     True\n",
       "39193    False\n",
       "0        False\n",
       "Name: event_type, Length: 25756, dtype: bool"
      ]
     },
     "execution_count": 18,
     "metadata": {},
     "output_type": "execute_result"
    }
   ],
   "source": [
    "DATAFRAME.sort_values('timestamp').set_index('pcap_cnt').event_type == 'alert'"
   ]
  },
  {
   "cell_type": "code",
   "execution_count": 19,
   "metadata": {},
   "outputs": [],
   "source": [
    "DATAFRAME_ALERT = (\n",
    "    DATAFRAME\n",
    "    .loc[DATAFRAME.event_type == 'alert']\n",
    "    .sort_values('timestamp')\n",
    "    .dropna(how='all',axis=1)\n",
    ")"
   ]
  },
  {
   "cell_type": "code",
   "execution_count": 20,
   "metadata": {},
   "outputs": [
    {
     "data": {
      "text/html": [
       "<div>\n",
       "<style scoped>\n",
       "    .dataframe tbody tr th:only-of-type {\n",
       "        vertical-align: middle;\n",
       "    }\n",
       "\n",
       "    .dataframe tbody tr th {\n",
       "        vertical-align: top;\n",
       "    }\n",
       "\n",
       "    .dataframe thead th {\n",
       "        text-align: right;\n",
       "    }\n",
       "</style>\n",
       "<table border=\"1\" class=\"dataframe tex2jax_ignore\">\n",
       "  <thead>\n",
       "    <tr style=\"text-align: right;\">\n",
       "      <th></th>\n",
       "      <th>timestamp</th>\n",
       "      <th>alert.signature</th>\n",
       "      <th>alert.category</th>\n",
       "      <th>event_type</th>\n",
       "      <th>src_ip</th>\n",
       "      <th>src_port</th>\n",
       "      <th>dest_ip</th>\n",
       "      <th>dest_port</th>\n",
       "    </tr>\n",
       "    <tr>\n",
       "      <th>pcap_cnt</th>\n",
       "      <th></th>\n",
       "      <th></th>\n",
       "      <th></th>\n",
       "      <th></th>\n",
       "      <th></th>\n",
       "      <th></th>\n",
       "      <th></th>\n",
       "      <th></th>\n",
       "    </tr>\n",
       "  </thead>\n",
       "  <tbody>\n",
       "    <tr>\n",
       "      <th>12795</th>\n",
       "      <td>2022-01-02 02:31:06.846992+03:00</td>\n",
       "      <td>SURICATA HTTP URI terminated by non-compliant ...</td>\n",
       "      <td>Generic Protocol Command Decode</td>\n",
       "      <td>alert</td>\n",
       "      <td>66.240.205.34</td>\n",
       "      <td>37244</td>\n",
       "      <td>198.71.247.91</td>\n",
       "      <td>80</td>\n",
       "    </tr>\n",
       "    <tr>\n",
       "      <th>12795</th>\n",
       "      <td>2022-01-02 02:31:06.846992+03:00</td>\n",
       "      <td>SURICATA HTTP METHOD terminated by non-complia...</td>\n",
       "      <td>Generic Protocol Command Decode</td>\n",
       "      <td>alert</td>\n",
       "      <td>66.240.205.34</td>\n",
       "      <td>37244</td>\n",
       "      <td>198.71.247.91</td>\n",
       "      <td>80</td>\n",
       "    </tr>\n",
       "    <tr>\n",
       "      <th>14739</th>\n",
       "      <td>2022-01-02 05:47:27.450922+03:00</td>\n",
       "      <td>SURICATA HTTP missing Host header</td>\n",
       "      <td>Generic Protocol Command Decode</td>\n",
       "      <td>alert</td>\n",
       "      <td>157.245.70.127</td>\n",
       "      <td>47092</td>\n",
       "      <td>198.71.247.91</td>\n",
       "      <td>80</td>\n",
       "    </tr>\n",
       "    <tr>\n",
       "      <th>14747</th>\n",
       "      <td>2022-01-02 05:47:27.740869+03:00</td>\n",
       "      <td>SURICATA HTTP missing Host header</td>\n",
       "      <td>Generic Protocol Command Decode</td>\n",
       "      <td>alert</td>\n",
       "      <td>157.245.70.127</td>\n",
       "      <td>47546</td>\n",
       "      <td>198.71.247.91</td>\n",
       "      <td>80</td>\n",
       "    </tr>\n",
       "    <tr>\n",
       "      <th>29250</th>\n",
       "      <td>2022-01-03 07:05:25.122456+03:00</td>\n",
       "      <td>SURICATA HTTP request field missing colon</td>\n",
       "      <td>Generic Protocol Command Decode</td>\n",
       "      <td>alert</td>\n",
       "      <td>147.182.237.4</td>\n",
       "      <td>58372</td>\n",
       "      <td>198.71.247.91</td>\n",
       "      <td>80</td>\n",
       "    </tr>\n",
       "    <tr>\n",
       "      <th>29250</th>\n",
       "      <td>2022-01-03 07:05:25.122456+03:00</td>\n",
       "      <td>SURICATA HTTP Host header invalid</td>\n",
       "      <td>Generic Protocol Command Decode</td>\n",
       "      <td>alert</td>\n",
       "      <td>147.182.237.4</td>\n",
       "      <td>58372</td>\n",
       "      <td>198.71.247.91</td>\n",
       "      <td>80</td>\n",
       "    </tr>\n",
       "    <tr>\n",
       "      <th>29250</th>\n",
       "      <td>2022-01-03 07:05:25.122456+03:00</td>\n",
       "      <td>SURICATA HTTP Unexpected Request body</td>\n",
       "      <td>Generic Protocol Command Decode</td>\n",
       "      <td>alert</td>\n",
       "      <td>147.182.237.4</td>\n",
       "      <td>58372</td>\n",
       "      <td>198.71.247.91</td>\n",
       "      <td>80</td>\n",
       "    </tr>\n",
       "    <tr>\n",
       "      <th>39181</th>\n",
       "      <td>2022-01-03 22:10:13.436562+03:00</td>\n",
       "      <td>SURICATA HTTP missing Host header</td>\n",
       "      <td>Generic Protocol Command Decode</td>\n",
       "      <td>alert</td>\n",
       "      <td>157.245.70.127</td>\n",
       "      <td>58982</td>\n",
       "      <td>198.71.247.91</td>\n",
       "      <td>80</td>\n",
       "    </tr>\n",
       "    <tr>\n",
       "      <th>39191</th>\n",
       "      <td>2022-01-03 22:10:13.737337+03:00</td>\n",
       "      <td>SURICATA HTTP missing Host header</td>\n",
       "      <td>Generic Protocol Command Decode</td>\n",
       "      <td>alert</td>\n",
       "      <td>157.245.70.127</td>\n",
       "      <td>59520</td>\n",
       "      <td>198.71.247.91</td>\n",
       "      <td>80</td>\n",
       "    </tr>\n",
       "  </tbody>\n",
       "</table>\n",
       "</div>"
      ],
      "text/plain": [
       "                                timestamp  \\\n",
       "pcap_cnt                                    \n",
       "12795    2022-01-02 02:31:06.846992+03:00   \n",
       "12795    2022-01-02 02:31:06.846992+03:00   \n",
       "14739    2022-01-02 05:47:27.450922+03:00   \n",
       "14747    2022-01-02 05:47:27.740869+03:00   \n",
       "29250    2022-01-03 07:05:25.122456+03:00   \n",
       "29250    2022-01-03 07:05:25.122456+03:00   \n",
       "29250    2022-01-03 07:05:25.122456+03:00   \n",
       "39181    2022-01-03 22:10:13.436562+03:00   \n",
       "39191    2022-01-03 22:10:13.737337+03:00   \n",
       "\n",
       "                                            alert.signature  \\\n",
       "pcap_cnt                                                      \n",
       "12795     SURICATA HTTP URI terminated by non-compliant ...   \n",
       "12795     SURICATA HTTP METHOD terminated by non-complia...   \n",
       "14739                     SURICATA HTTP missing Host header   \n",
       "14747                     SURICATA HTTP missing Host header   \n",
       "29250             SURICATA HTTP request field missing colon   \n",
       "29250                     SURICATA HTTP Host header invalid   \n",
       "29250                 SURICATA HTTP Unexpected Request body   \n",
       "39181                     SURICATA HTTP missing Host header   \n",
       "39191                     SURICATA HTTP missing Host header   \n",
       "\n",
       "                           alert.category event_type          src_ip  \\\n",
       "pcap_cnt                                                               \n",
       "12795     Generic Protocol Command Decode      alert   66.240.205.34   \n",
       "12795     Generic Protocol Command Decode      alert   66.240.205.34   \n",
       "14739     Generic Protocol Command Decode      alert  157.245.70.127   \n",
       "14747     Generic Protocol Command Decode      alert  157.245.70.127   \n",
       "29250     Generic Protocol Command Decode      alert   147.182.237.4   \n",
       "29250     Generic Protocol Command Decode      alert   147.182.237.4   \n",
       "29250     Generic Protocol Command Decode      alert   147.182.237.4   \n",
       "39181     Generic Protocol Command Decode      alert  157.245.70.127   \n",
       "39191     Generic Protocol Command Decode      alert  157.245.70.127   \n",
       "\n",
       "          src_port        dest_ip  dest_port  \n",
       "pcap_cnt                                      \n",
       "12795        37244  198.71.247.91         80  \n",
       "12795        37244  198.71.247.91         80  \n",
       "14739        47092  198.71.247.91         80  \n",
       "14747        47546  198.71.247.91         80  \n",
       "29250        58372  198.71.247.91         80  \n",
       "29250        58372  198.71.247.91         80  \n",
       "29250        58372  198.71.247.91         80  \n",
       "39181        58982  198.71.247.91         80  \n",
       "39191        59520  198.71.247.91         80  "
      ]
     },
     "execution_count": 20,
     "metadata": {},
     "output_type": "execute_result"
    }
   ],
   "source": [
    "DATAFRAME_ALERT[['pcap_cnt',\n",
    "                 'timestamp',  \n",
    "                 'alert.signature', \n",
    "                 'alert.category',\n",
    "                 'event_type', \n",
    "                 'src_ip', \n",
    "                 'src_port', \n",
    "                 'dest_ip', \n",
    "                 'dest_port']].sort_values('timestamp').set_index('pcap_cnt')"
   ]
  }
 ],
 "metadata": {
  "kernelspec": {
   "display_name": "Python 3",
   "language": "python",
   "name": "python3"
  },
  "language_info": {
   "codemirror_mode": {
    "name": "ipython",
    "version": 3
   },
   "file_extension": ".py",
   "mimetype": "text/x-python",
   "name": "python",
   "nbconvert_exporter": "python",
   "pygments_lexer": "ipython3",
   "version": "3.9.18"
  }
 },
 "nbformat": 4,
 "nbformat_minor": 2
}
